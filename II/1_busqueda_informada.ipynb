{
 "cells": [
  {
   "cell_type": "markdown",
   "metadata": {},
   "source": [
    "## Búsqueda Informada\n",
    "La búsqueda informada es un enfoque utilizado en la resolución de problemas de búsqueda en inteligencia artificial y ciencias de la computación. A diferencia de la búsqueda ciega, donde se exploran todas las posibles soluciones de manera sistemática sin información adicional sobre la calidad de las mismas, la búsqueda informada utiliza conocimiento heurístico o información específica del problema para guiar la exploración hacia soluciones más prometedoras. Esto permite reducir el espacio de búsqueda y encontrar soluciones de manera más eficiente."
   ]
  },
  {
   "cell_type": "markdown",
   "metadata": {},
   "source": [
    "### Búsqueda Voraz\n",
    "El algoritmo de búsqueda voraz es un enfoque simple pero efectivo. En este algoritmo, se selecciona la siguiente acción o estado a expandir basándose únicamente en la información heurística disponible en ese momento, sin considerar el futuro. Es decir, en cada paso, el algoritmo selecciona la opción que parece ser la más prometedora según la heurística utilizada, sin tener en cuenta cómo esta elección afectará el resultado final.\n",
    "\n",
    "El algoritmo de búsqueda voraz es especialmente útil en problemas donde se dispone de información heurística confiable y el objetivo es encontrar una solución aceptable de manera rápida, aunque no necesariamente óptima. Sin embargo, debido a su naturaleza greedy (ávida), este enfoque puede no garantizar la optimización global y puede conducir a soluciones subóptimas en algunos casos."
   ]
  },
  {
   "cell_type": "code",
   "execution_count": 1,
   "metadata": {},
   "outputs": [],
   "source": [
    "import heapq"
   ]
  },
  {
   "cell_type": "code",
   "execution_count": 2,
   "metadata": {},
   "outputs": [],
   "source": [
    "def calcular_heuristica(nodo, objetivo):\n",
    "    \"\"\"\n",
    "    Heurística para estimar el costo restante desde un nodo hasta el objetivo.\n",
    "    \n",
    "    Args:\n",
    "        node: Nodo actual.\n",
    "        goal: Nodo objetivo.\n",
    "        \n",
    "    Returns:\n",
    "        h: Valor heurístico.\n",
    "    \"\"\"\n",
    "    print(nodo)\n",
    "    print(objetivo)\n",
    "    if isinstance(nodo, tuple) and isinstance(objetivo, tuple) and len(nodo) == 2 and len(objetivo) == 2:\n",
    "        return abs(nodo[0] - objetivo[0]) + abs(nodo[1] - objetivo[1])\n",
    "    else:\n",
    "        raise ValueError(\"Los nodos y el objetivo deben ser tuplas de dos elementos.\")"
   ]
  },
  {
   "cell_type": "code",
   "execution_count": 3,
   "metadata": {},
   "outputs": [],
   "source": [
    "def construir_camino(inicio, objetivo, nodo_anterior):\n",
    "    \"\"\"\n",
    "    Reconstruye el camino desde el estado inicial hasta el estado objetivo.\n",
    "    \n",
    "    Args:\n",
    "        start: Estado inicial.\n",
    "        goal: Estado objetivo.\n",
    "        came_from: Diccionario que contiene el nodo anterior para cada nodo en el camino.\n",
    "        \n",
    "    Returns:\n",
    "        path: Lista de nodos desde el estado inicial hasta el estado objetivo.\n",
    "    \"\"\"\n",
    "    current_node = objetivo\n",
    "    path = [current_node]\n",
    "    while current_node != inicio:\n",
    "        current_node = nodo_anterior[current_node]\n",
    "        path.append(current_node)\n",
    "    path.reverse()\n",
    "    return path"
   ]
  },
  {
   "cell_type": "code",
   "execution_count": 4,
   "metadata": {},
   "outputs": [],
   "source": [
    "def busqueda_voraz(start, goal, graph):\n",
    "    \"\"\"\n",
    "    Realiza una búsqueda voraz desde el estado inicial hasta el estado objetivo en un grafo.\n",
    "    \n",
    "    Args:\n",
    "        start: Estado inicial.\n",
    "        goal: Estado objetivo.\n",
    "        graph: Grafo representado como un diccionario donde las claves son los nodos y los valores son listas de tuplas (vecino, costo).\n",
    "        \n",
    "    Returns:\n",
    "        path: Lista de nodos desde el estado inicial hasta el estado objetivo, o None si no se encontró un camino.\n",
    "    \"\"\"\n",
    "    print(\"Iniciando búsqueda voraz...\")\n",
    "    frontier = [(calcular_heuristica(start, goal), start)]  # Frontera con la heurística como prioridad\n",
    "    came_from = {}  # Diccionario para reconstruir el camino\n",
    "    explored = set()  # Conjunto de nodos explorados\n",
    "    \n",
    "    while frontier:\n",
    "        h, current_node = heapq.heappop(frontier)  # Extraer el nodo con la menor heurística\n",
    "        print(\"Explorando nodo:\", current_node)\n",
    "        if current_node == goal:\n",
    "            print(\"¡Nodo objetivo encontrado!\")\n",
    "            return construir_camino(start, goal, came_from)\n",
    "        \n",
    "        explored.add(current_node)\n",
    "        \n",
    "        for neighbor, _ in graph[current_node]:\n",
    "            if neighbor not in explored:\n",
    "                heapq.heappush(frontier, (calcular_heuristica(neighbor, goal), neighbor))  # Agregar vecinos a la frontera con su heurística como prioridad\n",
    "                came_from[neighbor] = current_node\n",
    "    \n",
    "    print(\"No se encontró un camino.\")\n",
    "    return None  # No se encontró un camino"
   ]
  },
  {
   "cell_type": "code",
   "execution_count": 5,
   "metadata": {},
   "outputs": [],
   "source": [
    "def imprimir_grafo(grafo):\n",
    "    print(\"Grafo:\")\n",
    "    for node, neighbors in grafo.items():\n",
    "        print(node, \":\", neighbors)"
   ]
  },
  {
   "cell_type": "code",
   "execution_count": 6,
   "metadata": {},
   "outputs": [],
   "source": [
    "grafo = {\n",
    "    (0, 0): [((0, 1), 1), ((1, 0), 1)],  # Ejemplo de grafo representado como un diccionario\n",
    "    (0, 1): [((0, 0), 1), ((1, 1), 1)],\n",
    "    (1, 0): [((0, 0), 1), ((1, 1), 1)],\n",
    "    (1, 1): [((0, 1), 1), ((1, 0), 1)]\n",
    "}"
   ]
  },
  {
   "cell_type": "code",
   "execution_count": 7,
   "metadata": {},
   "outputs": [
    {
     "name": "stdout",
     "output_type": "stream",
     "text": [
      "Grafo:\n",
      "(0, 0) : [((0, 1), 1), ((1, 0), 1)]\n",
      "(0, 1) : [((0, 0), 1), ((1, 1), 1)]\n",
      "(1, 0) : [((0, 0), 1), ((1, 1), 1)]\n",
      "(1, 1) : [((0, 1), 1), ((1, 0), 1)]\n"
     ]
    }
   ],
   "source": [
    "imprimir_grafo(grafo)"
   ]
  },
  {
   "cell_type": "code",
   "execution_count": 8,
   "metadata": {},
   "outputs": [],
   "source": [
    "start_node = (0, 0)\n",
    "goal_node = (1, 1)"
   ]
  },
  {
   "cell_type": "code",
   "execution_count": 9,
   "metadata": {},
   "outputs": [
    {
     "name": "stdout",
     "output_type": "stream",
     "text": [
      "Búsqueda Voraz:\n",
      "Iniciando búsqueda voraz...\n",
      "(0, 0)\n",
      "(1, 1)\n",
      "Explorando nodo: (0, 0)\n",
      "(0, 1)\n",
      "(1, 1)\n",
      "(1, 0)\n",
      "(1, 1)\n",
      "Explorando nodo: (0, 1)\n",
      "(1, 1)\n",
      "(1, 1)\n",
      "Explorando nodo: (1, 1)\n",
      "¡Nodo objetivo encontrado!\n",
      "[(0, 0), (0, 1), (1, 1)]\n"
     ]
    }
   ],
   "source": [
    "print(\"Búsqueda Voraz:\")\n",
    "print(busqueda_voraz(start_node, goal_node, grafo))"
   ]
  }
 ],
 "metadata": {
  "kernelspec": {
   "display_name": "ArtificialIntelligence2024-SpyqyAZM",
   "language": "python",
   "name": "python3"
  },
  "language_info": {
   "codemirror_mode": {
    "name": "ipython",
    "version": 3
   },
   "file_extension": ".py",
   "mimetype": "text/x-python",
   "name": "python",
   "nbconvert_exporter": "python",
   "pygments_lexer": "ipython3",
   "version": "3.12.1"
  }
 },
 "nbformat": 4,
 "nbformat_minor": 2
}
