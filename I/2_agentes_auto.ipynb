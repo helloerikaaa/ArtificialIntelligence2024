{
 "cells": [
  {
   "cell_type": "markdown",
   "metadata": {},
   "source": [
    "### Unidad 1: Fundamentos de Inteligencia Artificial\n",
    "#### 1.4 Agentes Inteligentes\n",
    "\n",
    "Un agente inteligente es un sistema computacional diseñado para percibir su entorno, procesar la información que recibe y tomar acciones con el objetivo de alcanzar metas o resolver problemas específicos. La inteligencia de un agente se manifiesta en su capacidad para adaptarse y mejorar su rendimiento a lo largo del tiempo mediante la experiencia y el aprendizaje.\n",
    "\n",
    "Un agente inteligente generalmente consta de cuatro componentes fundamentales:\n",
    "\n",
    "- Sensores (Percepción): Estos componentes permiten al agente recopilar información del entorno. Pueden ser cámaras, micrófonos, sensores táctiles, u otros dispositivos dependiendo de la naturaleza del entorno y de las tareas que el agente debe llevar a cabo.\n",
    "- Actuadores (Acción): Los actuadores son responsables de ejecutar las acciones decididas por el agente en respuesta a la información percibida. Pueden ser motores, altavoces, pantallas, o cualquier dispositivo que permita al agente interactuar con su entorno.\n",
    "- Razonamiento (Toma de Decisiones): Este componente implica el procesamiento de la información percibida y el uso de algoritmos o estrategias para tomar decisiones. Puede involucrar lógica, reglas predefinidas, aprendizaje automático o métodos de planificación, dependiendo de la complejidad del problema y la capacidad del agente.\n",
    "- Conocimiento (Base de Conocimientos): La base de conocimientos almacena la información relevante que el agente utiliza para tomar decisiones. Esta información puede ser predefinida, aprendida a lo largo del tiempo o combinación de ambas, y sirve como referencia para el razonamiento del agente."
   ]
  },
  {
   "cell_type": "markdown",
   "metadata": {},
   "source": [
    "#### Auto Inteligente\n",
    "El auto inteligente es capaz de percibir su entorno y tomar decisiones simples para moverse de manera autónoma. El objetivo de la simulación es ilustrar cómo un agente inteligente puede interactuar con su entorno para cumplir con ciertos objetivos."
   ]
  },
  {
   "cell_type": "code",
   "execution_count": 1,
   "metadata": {},
   "outputs": [],
   "source": [
    "import random"
   ]
  },
  {
   "cell_type": "code",
   "execution_count": 2,
   "metadata": {},
   "outputs": [],
   "source": [
    "class AutoInteligente:\n",
    "    def __init__(self):\n",
    "        self.posicion = 0\n",
    "        self.detener_simulacion = False  # Nuevo atributo para controlar la terminación de la simulación\n",
    "    \n",
    "    def detectar_obstaculo(self):\n",
    "        # Simulación de detección de obstáculos\n",
    "        return random.choice([True, False])\n",
    "    \n",
    "    def percibir(self):\n",
    "        # Método de percibir: detecta obstáculos\n",
    "        if self.detectar_obstaculo():\n",
    "            return \"obstaculo\"\n",
    "        else:\n",
    "            return \"libre\"\n",
    "    \n",
    "    def mover_izquierda(self):\n",
    "        print(\"Moviendo hacia la izquierda...\")\n",
    "        self.posicion -= 1\n",
    "    \n",
    "    def mover_derecha(self):\n",
    "        print(\"Moviendo hacia la derecha...\")\n",
    "        self.posicion += 1\n",
    "    \n",
    "    def avanzar_recto(self):\n",
    "        print(\"Avanza en línea recta\")\n",
    "        self.posicion +=1\n",
    "    \n",
    "    def actuar(self, accion):\n",
    "        # Método de actuar: ejecuta la acción seleccionada\n",
    "        if accion == \"izquierda\":\n",
    "            self.mover_izquierda()\n",
    "        elif accion == \"derecha\":\n",
    "            self.mover_derecha()\n",
    "        else:\n",
    "            self.avanzar_recto()\n",
    "    \n",
    "    def conducir(self):\n",
    "        print(\"Iniciando conducción autónoma...\")\n",
    "        while not self.detener_simulacion:  # El bucle se ejecutará hasta que se active la condición de detener simulación\n",
    "            percepcion = self.percibir()\n",
    "            if percepcion == \"obstaculo\":\n",
    "                print(\"¡Obstáculo detectado!\")\n",
    "                # Decisión simple: intenta moverse hacia la izquierda primero, luego hacia la derecha\n",
    "                if self.posicion > 0:\n",
    "                    accion = \"izquierda\"\n",
    "                else:\n",
    "                    accion = \"derecha\"\n",
    "            else:\n",
    "                print(\"Camino despejado.\")\n",
    "                # Continuar avanzando\n",
    "                accion = \"avanzar\"\n",
    "            print(\"Posición actual del auto:\", self.posicion)\n",
    "            self.actuar(accion)\n",
    "            # Simulación de tiempo de espera entre movimientos\n",
    "            input(\"Presiona Enter para continuar o 'q' para detener la simulación...\")\n",
    "            if input().lower() == 'q':  # Si el usuario presiona 'q', detener la simulación\n",
    "                self.detener_simulacion = True"
   ]
  },
  {
   "cell_type": "code",
   "execution_count": 3,
   "metadata": {},
   "outputs": [],
   "source": [
    "auto = AutoInteligente()"
   ]
  },
  {
   "cell_type": "code",
   "execution_count": 4,
   "metadata": {},
   "outputs": [
    {
     "name": "stdout",
     "output_type": "stream",
     "text": [
      "Iniciando conducción autónoma...\n",
      "¡Obstáculo detectado!\n",
      "Posición actual del auto: 0\n",
      "Moviendo hacia la derecha...\n",
      "Camino despejado.\n",
      "Posición actual del auto: 1\n",
      "Avanza en línea recta\n",
      "¡Obstáculo detectado!\n",
      "Posición actual del auto: 2\n",
      "Moviendo hacia la izquierda...\n",
      "Camino despejado.\n",
      "Posición actual del auto: 1\n",
      "Avanza en línea recta\n",
      "¡Obstáculo detectado!\n",
      "Posición actual del auto: 2\n",
      "Moviendo hacia la izquierda...\n",
      "Camino despejado.\n",
      "Posición actual del auto: 1\n",
      "Avanza en línea recta\n",
      "Camino despejado.\n",
      "Posición actual del auto: 2\n",
      "Avanza en línea recta\n",
      "¡Obstáculo detectado!\n",
      "Posición actual del auto: 3\n",
      "Moviendo hacia la izquierda...\n",
      "¡Obstáculo detectado!\n",
      "Posición actual del auto: 2\n",
      "Moviendo hacia la izquierda...\n",
      "Camino despejado.\n",
      "Posición actual del auto: 1\n",
      "Avanza en línea recta\n",
      "Camino despejado.\n",
      "Posición actual del auto: 2\n",
      "Avanza en línea recta\n",
      "Camino despejado.\n",
      "Posición actual del auto: 3\n",
      "Avanza en línea recta\n",
      "Camino despejado.\n",
      "Posición actual del auto: 4\n",
      "Avanza en línea recta\n",
      "Camino despejado.\n",
      "Posición actual del auto: 5\n",
      "Avanza en línea recta\n",
      "Camino despejado.\n",
      "Posición actual del auto: 6\n",
      "Avanza en línea recta\n",
      "¡Obstáculo detectado!\n",
      "Posición actual del auto: 7\n",
      "Moviendo hacia la izquierda...\n"
     ]
    }
   ],
   "source": [
    "auto.conducir()"
   ]
  }
 ],
 "metadata": {
  "kernelspec": {
   "display_name": "Python 3 (ipykernel)",
   "language": "python",
   "name": "python3"
  },
  "language_info": {
   "codemirror_mode": {
    "name": "ipython",
    "version": 3
   },
   "file_extension": ".py",
   "mimetype": "text/x-python",
   "name": "python",
   "nbconvert_exporter": "python",
   "pygments_lexer": "ipython3",
   "version": "3.12.1"
  }
 },
 "nbformat": 4,
 "nbformat_minor": 4
}
