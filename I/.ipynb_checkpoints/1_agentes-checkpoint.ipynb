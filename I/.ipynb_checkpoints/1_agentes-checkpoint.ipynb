{
 "cells": [
  {
   "cell_type": "markdown",
   "metadata": {},
   "source": [
    "### Unidad 1: Fundamentos de Inteligencia Artificial\n",
    "#### 1.4 Agentes Inteligentes\n",
    "\n",
    "Un agente inteligente es un sistema computacional diseñado para percibir su entorno, procesar la información que recibe y tomar acciones con el objetivo de alcanzar metas o resolver problemas específicos. La inteligencia de un agente se manifiesta en su capacidad para adaptarse y mejorar su rendimiento a lo largo del tiempo mediante la experiencia y el aprendizaje.\n",
    "\n",
    "Un agente inteligente generalmente consta de cuatro componentes fundamentales:\n",
    "\n",
    "- Sensores (Percepción): Estos componentes permiten al agente recopilar información del entorno. Pueden ser cámaras, micrófonos, sensores táctiles, u otros dispositivos dependiendo de la naturaleza del entorno y de las tareas que el agente debe llevar a cabo.\n",
    "- Actuadores (Acción): Los actuadores son responsables de ejecutar las acciones decididas por el agente en respuesta a la información percibida. Pueden ser motores, altavoces, pantallas, o cualquier dispositivo que permita al agente interactuar con su entorno.\n",
    "- Razonamiento (Toma de Decisiones): Este componente implica el procesamiento de la información percibida y el uso de algoritmos o estrategias para tomar decisiones. Puede involucrar lógica, reglas predefinidas, aprendizaje automático o métodos de planificación, dependiendo de la complejidad del problema y la capacidad del agente.\n",
    "- Conocimiento (Base de Conocimientos): La base de conocimientos almacena la información relevante que el agente utiliza para tomar decisiones. Esta información puede ser predefinida, aprendida a lo largo del tiempo o combinación de ambas, y sirve como referencia para el razonamiento del agente."
   ]
  },
  {
   "cell_type": "markdown",
   "metadata": {},
   "source": [
    "#### Aspiradora Inteligente\n",
    "Este ejercicio simula el comportamiento de un agente aspiradora en un entorno de cuadrícula 2x2. El entorno consiste en baldosas que pueden estar limpias o sucias, y la aspiradora tiene la tarea de moverse por la cuadrícula, limpiar las baldosas sucias y mostrar sus acciones."
   ]
  },
  {
   "cell_type": "code",
   "execution_count": null,
   "metadata": {},
   "outputs": [],
   "source": [
    "import random"
   ]
  },
  {
   "cell_type": "code",
   "execution_count": null,
   "metadata": {},
   "outputs": [],
   "source": [
    "class Aspiradora:\n",
    "    \n",
    "    def __init__(self):\n",
    "        self.posicion = [0, 0]\n",
    "        \n",
    "    def percibir(self, entorno):\n",
    "        return entorno[self.posicion[0]][self.posicion[1]]\n",
    "    \n",
    "    def actuar(self, percepcion):\n",
    "        if percepcion == \"sucia\":\n",
    "            return \"limpiar\"\n",
    "        else:\n",
    "            movimiento = random.choice([\"izquierda\", \"derecha\", \"arriba\", \"abajo\"])\n",
    "            return movimiento\n",
    "    \n",
    "    def limpiar(self, entorno, pasos=10):\n",
    "        print(f\"Entorno inicial: {self.mostrar_entorno(entorno)}\")\n",
    "        \n",
    "        for paso in range(pasos):\n",
    "            percepcion = self.percibir(entorno)\n",
    "            accion = self.actuar(percepcion)\n",
    "\n",
    "            if accion = \"limpiar\":\n",
    "                entorno[self.\n",
    "            "
   ]
  }
 ],
 "metadata": {
  "kernelspec": {
   "display_name": "Python 3 (ipykernel)",
   "language": "python",
   "name": "python3"
  },
  "language_info": {
   "codemirror_mode": {
    "name": "ipython",
    "version": 3
   },
   "file_extension": ".py",
   "mimetype": "text/x-python",
   "name": "python",
   "nbconvert_exporter": "python",
   "pygments_lexer": "ipython3",
   "version": "3.12.1"
  }
 },
 "nbformat": 4,
 "nbformat_minor": 4
}
