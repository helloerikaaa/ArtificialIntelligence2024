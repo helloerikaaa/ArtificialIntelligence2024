{
 "cells": [
  {
   "cell_type": "markdown",
   "metadata": {},
   "source": [
    "### Unidad 1: Fundamentos de Inteligencia Artificial\n",
    "#### 1.4 Agentes Inteligentes\n",
    "\n",
    "Un agente inteligente es un sistema computacional diseñado para percibir su entorno, procesar la información que recibe y tomar acciones con el objetivo de alcanzar metas o resolver problemas específicos. La inteligencia de un agente se manifiesta en su capacidad para adaptarse y mejorar su rendimiento a lo largo del tiempo mediante la experiencia y el aprendizaje.\n",
    "\n",
    "Un agente inteligente generalmente consta de cuatro componentes fundamentales:\n",
    "\n",
    "- Sensores (Percepción): Estos componentes permiten al agente recopilar información del entorno. Pueden ser cámaras, micrófonos, sensores táctiles, u otros dispositivos dependiendo de la naturaleza del entorno y de las tareas que el agente debe llevar a cabo.\n",
    "- Actuadores (Acción): Los actuadores son responsables de ejecutar las acciones decididas por el agente en respuesta a la información percibida. Pueden ser motores, altavoces, pantallas, o cualquier dispositivo que permita al agente interactuar con su entorno.\n",
    "- Razonamiento (Toma de Decisiones): Este componente implica el procesamiento de la información percibida y el uso de algoritmos o estrategias para tomar decisiones. Puede involucrar lógica, reglas predefinidas, aprendizaje automático o métodos de planificación, dependiendo de la complejidad del problema y la capacidad del agente.\n",
    "- Conocimiento (Base de Conocimientos): La base de conocimientos almacena la información relevante que el agente utiliza para tomar decisiones. Esta información puede ser predefinida, aprendida a lo largo del tiempo o combinación de ambas, y sirve como referencia para el razonamiento del agente."
   ]
  },
  {
   "cell_type": "markdown",
   "metadata": {},
   "source": [
    "#### Aspiradora Inteligente\n",
    "Este ejercicio simula el comportamiento de un agente aspiradora en un entorno de cuadrícula 2x2. El entorno consiste en baldosas que pueden estar limpias o sucias, y la aspiradora tiene la tarea de moverse por la cuadrícula, limpiar las baldosas sucias y mostrar sus acciones."
   ]
  },
  {
   "cell_type": "code",
   "execution_count": 26,
   "metadata": {},
   "outputs": [],
   "source": [
    "import random"
   ]
  },
  {
   "cell_type": "code",
   "execution_count": 27,
   "metadata": {},
   "outputs": [],
   "source": [
    "class Aspiradora:\n",
    "    def __init__(self):\n",
    "        self.posicion = [0, 0]  # Posición inicial de la aspiradora\n",
    "\n",
    "    def percibir(self, entorno):\n",
    "        # Simular la percepción observando la limpieza de la posición actual\n",
    "        return entorno[self.posicion[0]][self.posicion[1]]\n",
    "\n",
    "    def actuar(self, percepcion):\n",
    "        # Simular la acción limpiando si la posición actual está sucia\n",
    "        if percepcion == \"sucia\":\n",
    "            return \"limpiar\"\n",
    "        else:\n",
    "            # Moverse aleatoriamente a una posición vecina\n",
    "            movimiento = random.choice([\"izquierda\", \"derecha\", \"arriba\", \"abajo\"])\n",
    "            return movimiento\n",
    "\n",
    "    def limpiar(self, entorno, pasos=10):\n",
    "        print(\"Entorno Inicial:\")\n",
    "        self.mostrar_entorno(entorno)\n",
    "\n",
    "        for paso in range(pasos):\n",
    "            percepcion = self.percibir(entorno)\n",
    "            accion = self.actuar(percepcion)\n",
    "\n",
    "            # Realizar la acción\n",
    "            if accion == \"limpiar\":\n",
    "                entorno[self.posicion[0]][self.posicion[1]] = \"limpio\"\n",
    "                print(f\"Paso {paso + 1}: Se limpió la posición actual.\")\n",
    "            else:\n",
    "                self.moverse(accion)\n",
    "                print(f\"Paso {paso + 1}: Movimiento hacia {accion}.\")\n",
    "\n",
    "            # Mostrar el entorno actualizado\n",
    "            self.mostrar_entorno(entorno)\n",
    "\n",
    "    def moverse(self, direccion):\n",
    "        # Simular el movimiento a una posición vecina\n",
    "        if direccion == \"izquierda\" and self.posicion[1] > 0:\n",
    "            self.posicion[1] -= 1\n",
    "        elif direccion == \"derecha\" and self.posicion[1] < 1:\n",
    "            self.posicion[1] += 1\n",
    "        elif direccion == \"arriba\" and self.posicion[0] > 0:\n",
    "            self.posicion[0] -= 1\n",
    "        elif direccion == \"abajo\" and self.posicion[0] < 1:\n",
    "            self.posicion[0] += 1\n",
    "\n",
    "    def mostrar_entorno(self, entorno):\n",
    "        # Mostrar el estado actual del entorno\n",
    "        for fila in entorno:\n",
    "            print(\" \".join(fila))\n",
    "        print(\"\")"
   ]
  },
  {
   "cell_type": "code",
   "execution_count": 28,
   "metadata": {},
   "outputs": [],
   "source": [
    "entorno = [[\"sucia\" if random.random() < 0.5 else \"limpio\" for _ in range(2)] for _ in range(2)]"
   ]
  },
  {
   "cell_type": "code",
   "execution_count": 29,
   "metadata": {},
   "outputs": [],
   "source": [
    "agente_aspiradora = Aspiradora()"
   ]
  },
  {
   "cell_type": "code",
   "execution_count": 30,
   "metadata": {},
   "outputs": [
    {
     "name": "stdout",
     "output_type": "stream",
     "text": [
      "Entorno Inicial:\n",
      "sucia sucia\n",
      "sucia limpio\n",
      "\n",
      "Paso 1: Se limpió la posición actual.\n",
      "limpio sucia\n",
      "sucia limpio\n",
      "\n",
      "Paso 2: Movimiento hacia izquierda.\n",
      "limpio sucia\n",
      "sucia limpio\n",
      "\n",
      "Paso 3: Movimiento hacia derecha.\n",
      "limpio sucia\n",
      "sucia limpio\n",
      "\n",
      "Paso 4: Se limpió la posición actual.\n",
      "limpio limpio\n",
      "sucia limpio\n",
      "\n",
      "Paso 5: Movimiento hacia arriba.\n",
      "limpio limpio\n",
      "sucia limpio\n",
      "\n",
      "Paso 6: Movimiento hacia abajo.\n",
      "limpio limpio\n",
      "sucia limpio\n",
      "\n",
      "Paso 7: Movimiento hacia derecha.\n",
      "limpio limpio\n",
      "sucia limpio\n",
      "\n",
      "Paso 8: Movimiento hacia derecha.\n",
      "limpio limpio\n",
      "sucia limpio\n",
      "\n",
      "Paso 9: Movimiento hacia izquierda.\n",
      "limpio limpio\n",
      "sucia limpio\n",
      "\n",
      "Paso 10: Se limpió la posición actual.\n",
      "limpio limpio\n",
      "limpio limpio\n",
      "\n"
     ]
    }
   ],
   "source": [
    "agente_aspiradora.limpiar(entorno)"
   ]
  }
 ],
 "metadata": {
  "kernelspec": {
   "display_name": "Python 3 (ipykernel)",
   "language": "python",
   "name": "python3"
  },
  "language_info": {
   "codemirror_mode": {
    "name": "ipython",
    "version": 3
   },
   "file_extension": ".py",
   "mimetype": "text/x-python",
   "name": "python",
   "nbconvert_exporter": "python",
   "pygments_lexer": "ipython3",
   "version": "3.12.1"
  }
 },
 "nbformat": 4,
 "nbformat_minor": 4
}
