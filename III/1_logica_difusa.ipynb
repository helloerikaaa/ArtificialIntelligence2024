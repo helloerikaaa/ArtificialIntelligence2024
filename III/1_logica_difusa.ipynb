{
 "cells": [
  {
   "cell_type": "code",
   "execution_count": 2,
   "id": "c4dae22e-9510-469d-9db7-bdaa896b79ea",
   "metadata": {},
   "outputs": [],
   "source": [
    "import numpy as np\n",
    "# Generar los conjuntos difusos\n",
    "import skfuzzy as fuzz\n",
    "# Generar el sistema de control difuso\n",
    "from skfuzzy import control as ctrl"
   ]
  },
  {
   "cell_type": "code",
   "execution_count": 3,
   "id": "acf3226a-698e-466b-8489-eff6151f4d9b",
   "metadata": {},
   "outputs": [],
   "source": [
    "# Variable difusa de entrada\n",
    "# Rango  de 0 a 10, siendo bajo, medio y alto\n",
    "tiempo_estudio = ctrl.Antecedent(np.arange(0, 11, 1), 'tiempo_estudio')"
   ]
  },
  {
   "cell_type": "code",
   "execution_count": 4,
   "id": "74720982-89e6-4d3c-8543-f261421d985b",
   "metadata": {},
   "outputs": [],
   "source": [
    "# Rango de 0 a 10, siendo bajo, medio y alto\n",
    "calidad_sueno = ctrl.Antecedent(np.arange(0, 11, 1), 'calidad_sueno')"
   ]
  },
  {
   "cell_type": "code",
   "execution_count": 5,
   "id": "ebea2c5f-2379-4549-a2c9-b3f96c818e89",
   "metadata": {},
   "outputs": [],
   "source": [
    "# Variable de salida difusa\n",
    "# Rango de 0 a 10, siendo bajo, medio y alto\n",
    "rendimiento = ctrl.Consequent(np.arange(0, 101, 1), 'rendimiento')"
   ]
  },
  {
   "cell_type": "code",
   "execution_count": 6,
   "id": "d7ad78d6-1fc9-423b-bc4a-fc40ce04eef1",
   "metadata": {},
   "outputs": [],
   "source": [
    "# Definir los límites de cada función o grado de pertenencia\n",
    "tiempo_estudio['bajo'] = fuzz.trimf(tiempo_estudio.universe, [0, 0, 5])\n",
    "tiempo_estudio['medio'] = fuzz.trimf(tiempo_estudio.universe, [0, 5, 10])\n",
    "tiempo_estudio['alto'] = fuzz.trimf(tiempo_estudio.universe, [5, 10, 10])"
   ]
  },
  {
   "cell_type": "code",
   "execution_count": 7,
   "id": "6700ea02-df93-4c92-ae40-066342cb84d1",
   "metadata": {},
   "outputs": [],
   "source": [
    "calidad_sueno['bajo'] = fuzz.trimf(calidad_sueno.universe, [0, 0, 5])\n",
    "calidad_sueno['medio'] = fuzz.trimf(calidad_sueno.universe, [0, 5, 10])\n",
    "calidad_sueno['alto'] = fuzz.trimf(calidad_sueno.universe, [5, 10, 10])"
   ]
  },
  {
   "cell_type": "code",
   "execution_count": 8,
   "id": "4850ec93-eef4-4d1e-8ba5-27ebe48d1410",
   "metadata": {},
   "outputs": [],
   "source": [
    "# Rango de 0 a 100\n",
    "rendimiento['bajo'] = fuzz.trimf(rendimiento.universe, [0, 0, 50])\n",
    "rendimiento['medio'] = fuzz.trimf(rendimiento.universe, [0, 50, 100])\n",
    "rendimiento['alto'] = fuzz.trimf(rendimiento.universe, [50, 100, 100])"
   ]
  },
  {
   "cell_type": "code",
   "execution_count": 9,
   "id": "54a722b6-3585-4bdb-98d6-5d3b4c1c8f13",
   "metadata": {},
   "outputs": [],
   "source": [
    "# Reglas del sistema difuso\n",
    "regla = ctrl.Rule(tiempo_estudio['alto'] & calidad_sueno['alto'], rendimiento['alto'])"
   ]
  },
  {
   "cell_type": "code",
   "execution_count": 10,
   "id": "4e0787c1-a92c-4571-b80a-eb71b31e0526",
   "metadata": {},
   "outputs": [],
   "source": [
    "# Creación del sistema difuso\n",
    "sistema = ctrl.ControlSystem([regla])"
   ]
  },
  {
   "cell_type": "code",
   "execution_count": 11,
   "id": "067ee8cd-afe0-41f7-8074-3354bc1accba",
   "metadata": {},
   "outputs": [],
   "source": [
    "# Crear instancia del sistema\n",
    "sistema_difuso = ctrl.ControlSystemSimulation(sistema)"
   ]
  },
  {
   "cell_type": "code",
   "execution_count": 24,
   "id": "a8d91c57-e9aa-4b39-a0f8-82b8d65d394c",
   "metadata": {},
   "outputs": [],
   "source": [
    "# Evaluar el sistema difuso\n",
    "sistema_difuso.input['tiempo_estudio'] = 8\n",
    "sistema_difuso.input['calidad_sueno'] = 6"
   ]
  },
  {
   "cell_type": "code",
   "execution_count": 25,
   "id": "3fbf5597-0207-4288-959a-7526992e3952",
   "metadata": {},
   "outputs": [],
   "source": [
    "# Realizar la inferencia con incertidumbre\n",
    "sistema_difuso.compute()"
   ]
  },
  {
   "cell_type": "code",
   "execution_count": 26,
   "id": "89179281-1b23-4e7b-84b0-171b5c229484",
   "metadata": {},
   "outputs": [
    {
     "data": {
      "text/plain": [
       "77.4074074074074"
      ]
     },
     "execution_count": 26,
     "metadata": {},
     "output_type": "execute_result"
    }
   ],
   "source": [
    "sistema_difuso.output['rendimiento']"
   ]
  },
  {
   "cell_type": "code",
   "execution_count": null,
   "id": "be5513ae-8336-4010-86b2-e087a98a0549",
   "metadata": {},
   "outputs": [],
   "source": []
  }
 ],
 "metadata": {
  "kernelspec": {
   "display_name": "Python 3 (ipykernel)",
   "language": "python",
   "name": "python3"
  },
  "language_info": {
   "codemirror_mode": {
    "name": "ipython",
    "version": 3
   },
   "file_extension": ".py",
   "mimetype": "text/x-python",
   "name": "python",
   "nbconvert_exporter": "python",
   "pygments_lexer": "ipython3",
   "version": "3.10.13"
  }
 },
 "nbformat": 4,
 "nbformat_minor": 5
}
